{
 "cells": [
  {
   "cell_type": "markdown",
   "metadata": {},
   "source": [
    "## Hints"
   ]
  },
  {
   "cell_type": "markdown",
   "metadata": {},
   "source": [
    "#### _Hint: Have a look on HTTP response in Listing 1 and the HTML code In Listing 2. You may use the minimal header and HTML code._"
   ]
  },
  {
   "cell_type": "markdown",
   "metadata": {},
   "source": [
    "Listing 1: HTTP Response"
   ]
  },
  {
   "cell_type": "code",
   "execution_count": null,
   "metadata": {
    "vscode": {
     "languageId": "html"
    }
   },
   "outputs": [],
   "source": [
    "HTTP/1.1 200 OK \n",
    "Connection: close\n",
    "Date: Fri, 03 Mar 2017 06:19:37 GMT\n",
    "Server: Apache/2.4.6 (CentOS) OpenSSL/1.0.1e-fips PHP/5.4.16\n",
    "Last-Modified: Fri, 03 Mar 2017 05:28:07 GMT\n",
    "Content-Length: 6821 \n",
    "Content-Type: text/html\n",
    "data data data data data ..."
   ]
  },
  {
   "cell_type": "markdown",
   "metadata": {},
   "source": [
    "Listing 2: Simple HTML Code"
   ]
  },
  {
   "cell_type": "code",
   "execution_count": null,
   "metadata": {
    "vscode": {
     "languageId": "html"
    }
   },
   "outputs": [],
   "source": [
    "<!DOCTYPE html>\n",
    "<html>\n",
    "    <head><title >XYZ Company INC.</ title ></head>\n",
    "    <body>\n",
    "        <h1>Welcome <b>XYZ</b> Company</h1>\n",
    "        <img src=\"http:www. xyz.com/ images / logo.gif \" ALT=\"XYZ Logo\"><br>\n",
    "        We are so happy that you have chosen to visit our website.\n",
    "    </body>\n",
    "</html>"
   ]
  }
 ],
 "metadata": {
  "language_info": {
   "name": "python"
  }
 },
 "nbformat": 4,
 "nbformat_minor": 2
}

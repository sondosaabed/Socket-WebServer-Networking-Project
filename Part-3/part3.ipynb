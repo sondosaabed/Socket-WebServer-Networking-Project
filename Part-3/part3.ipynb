{
 "cells": [
  {
   "cell_type": "markdown",
   "metadata": {},
   "source": [
    "## Part3:"
   ]
  },
  {
   "cell_type": "markdown",
   "metadata": {},
   "source": [
    "#### Using socket programming, implement a simple but a complete web server in python that is listening on port 9966."
   ]
  },
  {
   "cell_type": "markdown",
   "metadata": {},
   "source": [
    "-_Have a look also on rfc2616 (https://datatracker.ietf.org/doc/html/rfc2616)_\n"
   ]
  },
  {
   "cell_type": "code",
   "execution_count": null,
   "metadata": {},
   "outputs": [],
   "source": [
    "import socket\n"
   ]
  },
  {
   "cell_type": "markdown",
   "metadata": {},
   "source": [
    "- From rfce2616, what is Content-Type in the HTTP request and why do we need it?"
   ]
  },
  {
   "cell_type": "markdown",
   "metadata": {},
   "source": [
    "- if the request is an `.html` file then the server should send the requested html file with Content-Type: text/html. You can use any html file.\n",
    "- if the request is a `.css` file then the server should send the requested css file with Content-Type: text/css. You can use any CSS file\n",
    "- if the request is a `.png` then the server should send the png image with Content-Type: image/png. You can use any image.\n",
    "- if the request is a `.jpg` then the server should send the jpg image with Content-Type: image/jpeg. You can use any image."
   ]
  },
  {
   "cell_type": "code",
   "execution_count": null,
   "metadata": {},
   "outputs": [],
   "source": [
    "def get_content_type(file_path):\n",
    "    \"\"\"\n",
    "        Args: \n",
    "            Takes file_path of the desired file as a string\n",
    "        Returns:\n",
    "            The content Type of the file based on the extenstion\n",
    "    \"\"\"\n",
    "    if file_path.endswith('.html'):\n",
    "        return 'text/html; charset=utf-8'\n",
    "    elif file_path.endswith('.css'):\n",
    "        return 'text/css; charset=utf-8'\n",
    "    elif file_path.endswith('.png'):\n",
    "        return 'image/png'\n",
    "    elif file_path.endswith('.jpg'):\n",
    "        return 'image/jpeg'\n",
    "    else:\n",
    "        return 'text/html; charset=utf-8'"
   ]
  },
  {
   "cell_type": "markdown",
   "metadata": {},
   "source": [
    "#### Temporary Redirect"
   ]
  },
  {
   "cell_type": "markdown",
   "metadata": {},
   "source": [
    "##### _Use  the status code 307 Temporary Redirect to redirect the following_"
   ]
  },
  {
   "cell_type": "markdown",
   "metadata": {},
   "source": [
    "- If the request is /cr then redirect to cornell.edu website\n",
    "- If the request is /rt then redirect to ritaj website\n",
    "- If the request is /so then redirect to stackoverflow.com website"
   ]
  },
  {
   "cell_type": "code",
   "execution_count": null,
   "metadata": {},
   "outputs": [],
   "source": [
    "def temp_redirection(request_path, client_socket):\n",
    "    \"\"\"\n",
    "        Args:\n",
    "            Request_path, Client_socket\n",
    "        Returns:\n",
    "            Status Code as Temor. Redirection as 307\n",
    "    \"\"\"\n",
    "    redirect_to = {'/cr': 'http://cornell.edu', \n",
    "                    '/so': 'http://stackoverflow.com', \n",
    "                    '/rt': 'http://ritaj'}\n",
    "    response_data = f\"Redirecting to {redirect_to[request_path]}\".encode('utf-8')\n",
    "    client_socket.send(request_path)\n",
    "    client_socket.close()\n",
    "    return '307 Temporary Redirect'"
   ]
  },
  {
   "cell_type": "markdown",
   "metadata": {},
   "source": [
    "#### File Doesn't Exist"
   ]
  },
  {
   "cell_type": "markdown",
   "metadata": {},
   "source": [
    "##### _If the request is wrong or the file doesn’t exist the server should return a simple HTML webpage that contains (Content-Type: text/html)_\n",
    "\n",
    "- “HTTP/1.1 404 Not Found” in the response status\n",
    "- The IP and port number of the client"
   ]
  },
  {
   "cell_type": "code",
   "execution_count": null,
   "metadata": {},
   "outputs": [],
   "source": [
    "def handle_404(client_socket, lang='en'):\n",
    "    \"\"\"\n",
    "        Args: \n",
    "            Client socket to send the response\n",
    "            lang: if ar will sent the ar/404.html \n",
    "                or else will sent the english and the en is default\n",
    "    \"\"\"\n",
    "    custom_404_path = f'{lang}/404.html'\n",
    "    with open(custom_404_path, 'r', encoding='utf-8') as custom_404_file:\n",
    "        data = custom_404_file.read().encode('utf-8')\n",
    "        content_type = get_content_type(custom_404_path)\n",
    "        status_code = '404 Not Found'\n",
    "        send_response(client_socket, status_code, content_type, data)"
   ]
  },
  {
   "cell_type": "code",
   "execution_count": null,
   "metadata": {},
   "outputs": [],
   "source": [
    "\n",
    "def send_response(client_socket, status_code, content_type, data):\n",
    "    \"\"\"\n",
    "        To sent a header & data to a client\n",
    "        Args:\n",
    "            client_socket, status_code, content_type, data\n",
    "    \"\"\"\n",
    "    response_headers = f\"HTTP/1.1 {status_code}\\r\\nContent-Type: {content_type}\\r\\n\\r\\n\"\n",
    "    response_data = response_headers.encode('utf-8') + data\n",
    "    client_socket.send(response_data)"
   ]
  },
  {
   "cell_type": "code",
   "execution_count": null,
   "metadata": {},
   "outputs": [],
   "source": [
    "def handle_request(client_socket, request_path):\n",
    "    if request_path in ['/', '/index.html', '/main_en.html', '/en']:\n",
    "        file_path = 'en/index.html'\n",
    "        lang = 'en'\n",
    "    elif request_path == '/ar':\n",
    "        file_path = 'ar/index.html'\n",
    "        lang = 'ar'\n",
    "    elif request_path in ['/cr', '/so', '/rt']:\n",
    "        status_code= temp_redirection(request_path, client_socket)\n",
    "        return\n",
    "    else:\n",
    "        file_path = request_path.lstrip('/')\n",
    "        lang = 'en' if file_path.startswith('en/') else 'ar'\n",
    "\n",
    "    try:\n",
    "        with open(file_path, 'rb') as file:\n",
    "            data = file.read()\n",
    "            content_type = get_content_type(file_path)\n",
    "            status_code = '200 OK'\n",
    "            send_response(client_socket, status_code, content_type, data)\n",
    "    except FileNotFoundError:\n",
    "        handle_404(client_socket, lang)"
   ]
  },
  {
   "cell_type": "markdown",
   "metadata": {},
   "source": [
    "#### Printing on terminal"
   ]
  },
  {
   "cell_type": "markdown",
   "metadata": {},
   "source": [
    "_The program should print the HTTP requests on the terminal window (command line window)._"
   ]
  },
  {
   "cell_type": "code",
   "execution_count": null,
   "metadata": {},
   "outputs": [],
   "source": [
    "def handle_client(server_socket):\n",
    "    \"\"\"\n",
    "        To take requests from the users\n",
    "        Args:\n",
    "            Server_socket\n",
    "    \"\"\"\n",
    "    client_socket, addr = server_socket.accept()\n",
    "    request = client_socket.recv(1024).decode('utf-8')\n",
    "\n",
    "    print(f\"Received request from {addr}:\\n{request}\")# Print HTTP request on the terminal\n",
    "    \n",
    "    request_parts = request.split(' ')# Extract the requested path\n",
    "    if len(request_parts) >= 2:\n",
    "        request_path = request_parts[1]\n",
    "        handle_request(client_socket, request_path) # Handle the request"
   ]
  },
  {
   "cell_type": "code",
   "execution_count": null,
   "metadata": {},
   "outputs": [],
   "source": [
    "def start_server(localhost='127.0.0.1', port=9966):\n",
    "    \"\"\"\n",
    "        Handles the client until they leave\n",
    "        Args:\n",
    "            takes the local host ip\n",
    "            takes the port number as required \n",
    "    \"\"\"\n",
    "    server_socket = socket.socket(socket.AF_INET, socket.SOCK_STREAM)\n",
    "    server_socket.bind((localhost, port))\n",
    "    server_socket.listen(1)\n",
    "    print(\"Server listening on port 9966...\")\n",
    "\n",
    "    while True:\n",
    "        handle_client(server_socket)"
   ]
  },
  {
   "cell_type": "markdown",
   "metadata": {},
   "source": [
    "#### Requests & Responses"
   ]
  },
  {
   "cell_type": "markdown",
   "metadata": {},
   "source": [
    "- The user types in the browser something like http://localhost:9966/ar or http://localhost:9966/en The program should check \n",
    "    - if the request is / or /index.html or /main_en.html or /en (for example localhost:9966/ or localhost:9966/en) then the server should send main_en.html file with Content-Type: text/html. "
   ]
  },
  {
   "cell_type": "code",
   "execution_count": null,
   "metadata": {},
   "outputs": [],
   "source": [
    "\n",
    "from server import start_server\n",
    "\n",
    "if __name__ == \"__main__\":\n",
    "    \"\"\"\n",
    "        Checks if this is the main and calls the start_server funtion on it's deafult args\n",
    "    \"\"\"\n",
    "    start_server()"
   ]
  },
  {
   "cell_type": "code",
   "execution_count": null,
   "metadata": {},
   "outputs": [],
   "source": [
    "def send_response(client_socket, status_code, content_type, data):\n",
    "    \"\"\"\n",
    "        To sent a header & data to a client\n",
    "        Args:\n",
    "            client_socket, status_code, content_type, data\n",
    "    \"\"\"\n",
    "    response_headers = f\"HTTP/1.1 {status_code}\\r\\nContent-Type: {content_type}\\r\\n\\r\\n\"\n",
    "    response_data = response_headers.encode('utf-8') + data\n",
    "    client_socket.send(response_data)"
   ]
  },
  {
   "cell_type": "code",
   "execution_count": null,
   "metadata": {},
   "outputs": [],
   "source": [
    "def handle_request(client_socket, request_path):\n",
    "    \"\"\"\n",
    "        Args: \n",
    "            client_socket, request_path takes and client socket to be send to and a request path to render\n",
    "            handles all cases of temrory redirection & file doesn't exists\n",
    "    \"\"\"\n",
    "    if request_path in ['/', '/index.html', '/main_en.html', '/en']:\n",
    "        file_path = 'en/index.html'\n",
    "        lang = 'en'\n",
    "    elif request_path in ['/main_ar.html', '/ar']:\n",
    "        file_path = 'ar/index.html'\n",
    "        lang = 'ar'\n",
    "    elif request_path in ['/cr', '/so', '/rt']:\n",
    "        status_code= temp_redirection(request_path, client_socket)\n",
    "        return\n",
    "    else:\n",
    "        file_path = request_path.lstrip('/')\n",
    "        lang = 'en' if file_path.startswith('en/') else 'ar'\n",
    "    try:\n",
    "        with open(file_path, 'rb') as file:\n",
    "            data = file.read()\n",
    "            content_type = get_content_type(file_path)\n",
    "            status_code = '200 OK'\n",
    "            send_response(client_socket, status_code, content_type, data)\n",
    "    except FileNotFoundError:\n",
    "        handle_404(client_socket, lang)"
   ]
  },
  {
   "cell_type": "markdown",
   "metadata": {},
   "source": [
    "#### Attached"
   ]
  },
  {
   "cell_type": "markdown",
   "metadata": {},
   "source": [
    "- The contents of _main_en.html_"
   ]
  },
  {
   "cell_type": "markdown",
   "metadata": {},
   "source": [
    "- 404 not found contents"
   ]
  }
 ],
 "metadata": {
  "language_info": {
   "name": "python"
  }
 },
 "nbformat": 4,
 "nbformat_minor": 2
}

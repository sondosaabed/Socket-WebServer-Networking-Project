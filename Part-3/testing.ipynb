{
 "cells": [
  {
   "cell_type": "markdown",
   "metadata": {},
   "source": [
    "## Testing:"
   ]
  },
  {
   "cell_type": "markdown",
   "metadata": {},
   "source": [
    "Provide screenshots of the browser with brief descriptions to show that your project works as expected. (/main_en.html /imagename.png,  /yt, etc.) . "
   ]
  },
  {
   "cell_type": "code",
   "execution_count": null,
   "metadata": {},
   "outputs": [],
   "source": []
  },
  {
   "cell_type": "markdown",
   "metadata": {},
   "source": [
    "Test the project from a browser on the same computer and from a different computer or phone."
   ]
  },
  {
   "cell_type": "code",
   "execution_count": null,
   "metadata": {},
   "outputs": [],
   "source": []
  },
  {
   "cell_type": "markdown",
   "metadata": {},
   "source": [
    "Provide also a screenshot of the HTTP request printed on the command line. "
   ]
  },
  {
   "cell_type": "code",
   "execution_count": null,
   "metadata": {},
   "outputs": [],
   "source": []
  },
  {
   "cell_type": "code",
   "execution_count": null,
   "metadata": {},
   "outputs": [],
   "source": [
    "def run_test(request, expected_output):\n",
    "    server_socket = socket.socket(socket.AF_INET, socket.SOCK_STREAM)\n",
    "    server_socket.bind(('127.0.0.1', 9967))\n",
    "    server_socket.listen(1)\n",
    "\n",
    "    def handle_client():\n",
    "        client_socket = socket.socket(socket.AF_INET, socket.SOCK_STREAM)\n",
    "        client_socket.connect(('127.0.0.1', 9967))\n",
    "        time.sleep(1)  # Wait for server to start listening\n",
    "        client_socket.send(request.encode('utf-8'))\n",
    "        response = client_socket.recv(1024)\n",
    "        assert response == expected_output\n",
    "        client_socket.close()\n",
    "\n",
    "    threading.Thread(target=handle_client).start()\n",
    "    client_socket, addr = server_socket.accept()\n",
    "    handle_client(client_socket)"
   ]
  },
  {
   "cell_type": "code",
   "execution_count": null,
   "metadata": {},
   "outputs": [],
   "source": [
    "import socket\n",
    "import threading\n",
    "import time"
   ]
  },
  {
   "cell_type": "code",
   "execution_count": null,
   "metadata": {},
   "outputs": [],
   "source": [
    "def test_existing_html_file():\n",
    "    request = \"GET /index.html HTTP/1.1\\r\\nHost: localhost\\r\\n\\r\\n\"\n",
    "    expected_output = b\"HTTP/1.1 200 OK\\r\\nContent-Type: text/html; charset=utf-8\\r\\n\\r\\nContent of 'en/index.html'\"\n",
    "    run_test(request, expected_output)"
   ]
  },
  {
   "cell_type": "code",
   "execution_count": null,
   "metadata": {},
   "outputs": [],
   "source": [
    "def test_nonexistent_file():\n",
    "    request = \"GET /nonexistent.html HTTP/1.1\\r\\nHost: localhost\\r\\n\\r\\n\"\n",
    "    expected_output = b\"HTTP/1.1 404 Not Found\\r\\nContent-Type: text/html; charset=utf-8\\r\\n\\r\\nContent of 'en/404.html'\"\n",
    "    run_test(request, expected_output)"
   ]
  },
  {
   "cell_type": "code",
   "execution_count": null,
   "metadata": {},
   "outputs": [],
   "source": [
    "def test_temporary_redirection():\n",
    "    request = \"GET /cr HTTP/1.1\\r\\nHost: localhost\\r\\n\\r\\n\"\n",
    "    expected_output = b\"HTTP/1.1 307 Temporary Redirect\\r\\nContent-Type: text/html; charset=utf-8\\r\\n\\r\\nRedirecting to http://cornell.edu\"\n",
    "    run_test(request, expected_output)"
   ]
  },
  {
   "cell_type": "code",
   "execution_count": null,
   "metadata": {},
   "outputs": [],
   "source": [
    "def test_css_file():\n",
    "    request = \"GET /style.css HTTP/1.1\\r\\nHost: localhost\\r\\n\\r\\n\"\n",
    "    expected_output = b\"HTTP/1.1 200 OK\\r\\nContent-Type: text/css; charset=utf-8\\r\\n\\r\\nContent of 'style.css'\"\n",
    "    run_test(request, expected_output)"
   ]
  },
  {
   "cell_type": "code",
   "execution_count": null,
   "metadata": {},
   "outputs": [],
   "source": [
    "test_existing_html_file()\n",
    "test_nonexistent_file()\n",
    "test_temporary_redirection()\n",
    "test_css_file()"
   ]
  }
 ],
 "metadata": {
  "language_info": {
   "name": "python"
  }
 },
 "nbformat": 4,
 "nbformat_minor": 2
}

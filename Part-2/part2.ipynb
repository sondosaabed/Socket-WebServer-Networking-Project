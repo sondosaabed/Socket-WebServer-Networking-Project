{
 "cells": [
  {
   "cell_type": "markdown",
   "metadata": {},
   "source": [
    "## Part2:"
   ]
  },
  {
   "cell_type": "markdown",
   "metadata": {},
   "source": [
    "#### Using socket programming, implement TCP client and server applications in python. "
   ]
  },
  {
   "cell_type": "markdown",
   "metadata": {},
   "source": [
    "- To use socket programing I should Import socket library"
   ]
  },
  {
   "cell_type": "code",
   "execution_count": 1,
   "metadata": {},
   "outputs": [],
   "source": [
    "def validate_student_id(student_id):\n",
    "    \"\"\"\n",
    "        Args:\n",
    "            student_id: this value is tajen from the Form\n",
    "        Returns boolean:\n",
    "            if entered value is in valid_id's returns True else False\n",
    "    \"\"\"\n",
    "    valid_ids = [\"1190652\", \"1234567\", \"0101010\", \"2211221\"]\n",
    "    return student_id in valid_ids"
   ]
  },
  {
   "cell_type": "code",
   "execution_count": null,
   "metadata": {},
   "outputs": [],
   "source": [
    "import platform\n",
    "import ctypes\n",
    "def lock_screen():\n",
    "    \"\"\"\n",
    "    Locks the screen based on the operating system.\n",
    "    \"\"\"\n",
    "    system_platform = platform.system()\n",
    "\n",
    "    if system_platform == 'Windows':\n",
    "        # Implement locking for Windows using ctypes\n",
    "        ctypes.windll.user32.LockWorkStation()"
   ]
  },
  {
   "cell_type": "code",
   "execution_count": null,
   "metadata": {},
   "outputs": [],
   "source": [
    "import time\n",
    "def check_id(student_id, client_socket ):\n",
    "    \"\"\" To perform lock screen and send messages to client and display on server\n",
    "        Args:\n",
    "            student_id: the entered id\n",
    "            client_socket: the created client socket \n",
    "        Return:\n",
    "            Nothing \n",
    "    \"\"\"\n",
    "    if student_id:\n",
    "        print(f\"Received valid student ID: {student_id}\")\n",
    "        # Send a message to the client that the server will lock the screen\n",
    "        # Display a message on the server side that the OS will lock screen after 10 seconds\n",
    "        client_socket.send(\"Locking screen in 10 seconds...\".encode(\"utf-8\"))\n",
    "        print(\"OS will lock screen after 10 seconds\")\n",
    "\n",
    "        time.sleep(10) # Wait for 10 seconds\n",
    "        lock_screen()\n",
    "        \n",
    "        # Send a response to the client after locking the screen\n",
    "        client_socket.send(\"Screen locked.\".encode(\"utf-8\"))\n",
    "    else:\n",
    "        # If the received message is not a valid student ID, display an error message\n",
    "        print(\"Error: Invalid student ID or message\")"
   ]
  },
  {
   "cell_type": "markdown",
   "metadata": {},
   "source": [
    "_The server should listen on port 9955._ \n",
    "_The server waits for a message from a client._"
   ]
  },
  {
   "cell_type": "code",
   "execution_count": 2,
   "metadata": {},
   "outputs": [],
   "source": [
    "port = 9955"
   ]
  },
  {
   "cell_type": "markdown",
   "metadata": {},
   "source": [
    "- I have an idea to get the message from the client using an index.html that is a form."
   ]
  },
  {
   "cell_type": "markdown",
   "metadata": {},
   "source": [
    "![form screenshot](screenshots\\form.png)"
   ]
  },
  {
   "cell_type": "markdown",
   "metadata": {},
   "source": [
    "If the message is with one of the students ID, the sever should do the following:"
   ]
  },
  {
   "cell_type": "markdown",
   "metadata": {},
   "source": [
    "- display a message on the server side that the OS will lock screen after 10 seconds"
   ]
  },
  {
   "cell_type": "code",
   "execution_count": null,
   "metadata": {},
   "outputs": [],
   "source": []
  },
  {
   "cell_type": "markdown",
   "metadata": {},
   "source": [
    "Send a message to the client that the sever will lock screen after 10 seconds and display a message on the server side that the OS will lock screen after 10 seconds"
   ]
  },
  {
   "cell_type": "code",
   "execution_count": null,
   "metadata": {},
   "outputs": [],
   "source": []
  },
  {
   "cell_type": "markdown",
   "metadata": {},
   "source": [
    "Send a message to the client that the sever will lock screen after 10 seconds and display a message on the server side that the OS will lock screen after 10 seconds. then wait 10 seconds\n"
   ]
  },
  {
   "cell_type": "code",
   "execution_count": null,
   "metadata": {},
   "outputs": [],
   "source": []
  },
  {
   "cell_type": "markdown",
   "metadata": {},
   "source": [
    "- then call a function lock the screen of the operating system (windows or Linux or MAC). "
   ]
  },
  {
   "cell_type": "code",
   "execution_count": null,
   "metadata": {},
   "outputs": [],
   "source": []
  },
  {
   "cell_type": "markdown",
   "metadata": {},
   "source": [
    "- Any student ID of the group member should work. (I added my Id and 1234567 and 0000000)\n",
    "- Any other student number or any text should display an error message on the server side and no lock screen should be done. "
   ]
  },
  {
   "cell_type": "code",
   "execution_count": null,
   "metadata": {},
   "outputs": [],
   "source": [
    "import socket"
   ]
  },
  {
   "cell_type": "code",
   "execution_count": null,
   "metadata": {},
   "outputs": [],
   "source": [
    "def run_client(server_ip = \"127.0.0.1\", server_port = 9955 ):\n",
    "    client = socket.socket(socket.AF_INET, socket.SOCK_STREAM) # create a socket object\n",
    "    client.connect((server_ip, server_port))# establish connection with server\n",
    "\n",
    "    while True:\n",
    "        msg = input(\"Enter Student ID: \") # input message and send it to the server\n",
    "        client.send(msg.encode(\"utf-8\")[:1024])\n",
    "\n",
    "        response = client.recv(1024) # receive message from the server\n",
    "        response = response.decode(\"utf-8\")\n",
    "\n",
    "        if response.lower() == \"closed\": \n",
    "            # if server sent us \"closed\" in the payload, we break out of the loop and close our socket\n",
    "            break\n",
    "\n",
    "        print(f\"Received: {response}\")\n",
    "\n",
    "    # close client socket (connection to the server)\n",
    "    client.close()\n",
    "    print(\"Connection to server closed\")"
   ]
  },
  {
   "cell_type": "code",
   "execution_count": null,
   "metadata": {},
   "outputs": [],
   "source": [
    "def run_server(server_ip = \"127.0.0.1\", port = 9955):\n",
    "    server = socket.socket(socket.AF_INET, socket.SOCK_STREAM) # create a socket object\n",
    "    \n",
    "    server.bind((server_ip, port))  # bind the socket to a specific address and port\n",
    "    server.listen(0)    # listen for incoming connections\n",
    "    print(f\"Listening on {server_ip}:{port}\")\n",
    "\n",
    "    client_socket, client_address = server.accept()     # accept incoming connections\n",
    "    print(f\"Accepted connection from {client_address[0]}:{client_address[1]}\")\n",
    "\n",
    "    # receive data from the client\n",
    "    while True:\n",
    "        request = client_socket.recv(1024)\n",
    "        request = request.decode(\"utf-8\") # convert bytes to string\n",
    "        \n",
    "        # if we receive \"close\" from the client, then we break out of the loop and close the connection\n",
    "        if request.lower() == \"close\":\n",
    "            # send response to the client which acknowledges that the\n",
    "            # connection should be closed and break out of the loop\n",
    "            client_socket.send(\"closed\".encode(\"utf-8\"))\n",
    "            break\n",
    "\n",
    "        # Check if the received message is a valid student ID\n",
    "        student_id = validate_student_id(request)\n",
    "        check_id(student_id, client_socket)\n",
    "\n",
    "        # convert string to bytes and send accept response to the client\n",
    "        response = \"accepted\".encode(\"utf-8\") \n",
    "        client_socket.send(response)  \n",
    "\n",
    "    client_socket.close()\n",
    "    print(\"Connection to the client closed\")\n",
    "    server.close()"
   ]
  },
  {
   "cell_type": "code",
   "execution_count": null,
   "metadata": {
    "vscode": {
     "languageId": "powershell"
    }
   },
   "outputs": [],
   "source": [
    "python server.py"
   ]
  },
  {
   "cell_type": "code",
   "execution_count": null,
   "metadata": {
    "vscode": {
     "languageId": "powershell"
    }
   },
   "outputs": [],
   "source": [
    "python client.py"
   ]
  },
  {
   "cell_type": "code",
   "execution_count": null,
   "metadata": {},
   "outputs": [],
   "source": [
    "try:\n",
    "    run_client()\n",
    "except Exception as e:\n",
    "    print(f\"Error in : {e}\")"
   ]
  },
  {
   "cell_type": "code",
   "execution_count": null,
   "metadata": {},
   "outputs": [],
   "source": [
    "try:\n",
    "    run_server()\n",
    "except Exception as e:\n",
    "    print(f\"Error in : {e}\")"
   ]
  }
 ],
 "metadata": {
  "kernelspec": {
   "display_name": "Python 3",
   "language": "python",
   "name": "python3"
  },
  "language_info": {
   "codemirror_mode": {
    "name": "ipython",
    "version": 3
   },
   "file_extension": ".py",
   "mimetype": "text/x-python",
   "name": "python",
   "nbconvert_exporter": "python",
   "pygments_lexer": "ipython3",
   "version": "3.11.0"
  }
 },
 "nbformat": 4,
 "nbformat_minor": 2
}

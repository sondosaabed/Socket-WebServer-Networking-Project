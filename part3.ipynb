{
 "cells": [
  {
   "cell_type": "markdown",
   "metadata": {},
   "source": [
    "## Part3:"
   ]
  },
  {
   "cell_type": "markdown",
   "metadata": {},
   "source": [
    "#### Using socket programming, implement a simple but a complete web server in python that is listening on port 9966."
   ]
  },
  {
   "cell_type": "markdown",
   "metadata": {},
   "source": [
    "-_Have a look also on rfc2616 (https://datatracker.ietf.org/doc/html/rfc2616)_\n"
   ]
  },
  {
   "cell_type": "markdown",
   "metadata": {},
   "source": [
    "- From rfce2616, what is Content-Type in the HTTP request and why do we need it?"
   ]
  },
  {
   "cell_type": "code",
   "execution_count": null,
   "metadata": {},
   "outputs": [],
   "source": []
  },
  {
   "cell_type": "markdown",
   "metadata": {},
   "source": [
    "#### Requests & Responses"
   ]
  },
  {
   "cell_type": "markdown",
   "metadata": {},
   "source": [
    "- The user types in the browser something like http://localhost:9966/ar or http://localhost:9966/en The program should check \n",
    "    - if the request is / or /index.html or /main_en.html or /en (for example localhost:9966/ or localhost:9966/en) then the server should send main_en.html file with Content-Type: text/html. "
   ]
  },
  {
   "cell_type": "code",
   "execution_count": null,
   "metadata": {},
   "outputs": [],
   "source": []
  },
  {
   "cell_type": "markdown",
   "metadata": {},
   "source": [
    "- if the request is an `.html` file then the server should send the requested html file with Content-Type: text/html. You can use any html file."
   ]
  },
  {
   "cell_type": "code",
   "execution_count": null,
   "metadata": {},
   "outputs": [],
   "source": []
  },
  {
   "cell_type": "markdown",
   "metadata": {},
   "source": [
    "- if the request is a `.css` file then the server should send the requested css file with Content-Type: text/css. You can use any CSS file"
   ]
  },
  {
   "cell_type": "code",
   "execution_count": null,
   "metadata": {},
   "outputs": [],
   "source": []
  },
  {
   "cell_type": "markdown",
   "metadata": {},
   "source": [
    "- if the request is a `.png` then the server should send the png image with Content-Type: image/png. You can use any image."
   ]
  },
  {
   "cell_type": "code",
   "execution_count": null,
   "metadata": {},
   "outputs": [],
   "source": []
  },
  {
   "cell_type": "markdown",
   "metadata": {},
   "source": [
    "- if the request is a `.jpg` then the server should send the jpg image with Content-Type: image/jpeg. You can use any image."
   ]
  },
  {
   "cell_type": "code",
   "execution_count": null,
   "metadata": {},
   "outputs": [],
   "source": []
  },
  {
   "cell_type": "markdown",
   "metadata": {},
   "source": [
    "#### Temporary Redirect"
   ]
  },
  {
   "cell_type": "markdown",
   "metadata": {},
   "source": [
    "##### _Use  the status code 307 Temporary Redirect to redirect the following_"
   ]
  },
  {
   "cell_type": "markdown",
   "metadata": {},
   "source": [
    "- If the request is /cr then redirect to cornell.edu website"
   ]
  },
  {
   "cell_type": "code",
   "execution_count": null,
   "metadata": {},
   "outputs": [],
   "source": []
  },
  {
   "cell_type": "markdown",
   "metadata": {},
   "source": [
    "- If the request is /so then redirect to stackoverflow.com website"
   ]
  },
  {
   "cell_type": "code",
   "execution_count": null,
   "metadata": {},
   "outputs": [],
   "source": []
  },
  {
   "cell_type": "markdown",
   "metadata": {},
   "source": [
    "- If the request is /rt then redirect to ritaj website"
   ]
  },
  {
   "cell_type": "code",
   "execution_count": null,
   "metadata": {},
   "outputs": [],
   "source": []
  },
  {
   "cell_type": "markdown",
   "metadata": {},
   "source": [
    "#### File Doesn't Exist"
   ]
  },
  {
   "cell_type": "markdown",
   "metadata": {},
   "source": [
    "##### _If the request is wrong or the file doesn’t exist the server should return a simple HTML webpage that contains (Content-Type: text/html)_"
   ]
  },
  {
   "cell_type": "markdown",
   "metadata": {},
   "source": [
    "- “HTTP/1.1 404 Not Found” in the response status"
   ]
  },
  {
   "cell_type": "code",
   "execution_count": null,
   "metadata": {},
   "outputs": [],
   "source": []
  },
  {
   "cell_type": "markdown",
   "metadata": {},
   "source": [
    "- The IP and port number of the client"
   ]
  },
  {
   "cell_type": "code",
   "execution_count": null,
   "metadata": {
    "vscode": {
     "languageId": "html"
    }
   },
   "outputs": [],
   "source": []
  },
  {
   "cell_type": "markdown",
   "metadata": {},
   "source": [
    "#### Printing on terminal"
   ]
  },
  {
   "cell_type": "markdown",
   "metadata": {},
   "source": [
    "_The program should print the HTTP requests on the terminal window (command line window)._"
   ]
  },
  {
   "cell_type": "code",
   "execution_count": null,
   "metadata": {
    "vscode": {
     "languageId": "html"
    }
   },
   "outputs": [],
   "source": []
  },
  {
   "cell_type": "markdown",
   "metadata": {},
   "source": [
    "#### Attached"
   ]
  },
  {
   "cell_type": "markdown",
   "metadata": {},
   "source": [
    "- The contents of _main_en.html_"
   ]
  },
  {
   "cell_type": "code",
   "execution_count": null,
   "metadata": {
    "vscode": {
     "languageId": "html"
    }
   },
   "outputs": [],
   "source": [
    "<html>\n",
    "    <head>\n",
    "        <link rel=\"stylesheet\" href=\"style.css\"> <!-- c. & e (CSS in seprate file)-->\n",
    "        <title>ENCS3320-My Tiny Webserver 23/24</title> <!-- a. -->\n",
    "    </head>\n",
    "    <body>\n",
    "        <h1>Welcome to our course <span style=\"color:blue;\">Computer Networks, This is a tiny webserver</span></h1> <!-- b. -->\n",
    "\n",
    "        <!-- g. name & ID -->\n",
    "        <h2>Sondos Aabed 1190652</h2>\n",
    "        \n",
    "    <!-- d. diffrent sections -->\n",
    "        <!-- f. -->\n",
    "        <section>\n",
    "            <h2>Ponit 0 Anwer</h2>\n",
    "            <p>\n",
    "                Summarize point 0 above in a box\n",
    "            </p>\n",
    "        </section>\n",
    "\n",
    "        <!-- h. information about me -->\n",
    "        <section>\n",
    "            <p>Skills</p>\n",
    "        </section>\n",
    "\n",
    "        <section>\n",
    "            <p>AI Projects</p>\n",
    "            <p>Java Projects</p>\n",
    "        </section>\n",
    "\n",
    "        <section>\n",
    "            <p>Courses</p>\n",
    "        </section>\n",
    "        \n",
    "        <section>\n",
    "            <h1>Hobbies</h1>\n",
    "            <img alt=\"journal image\" src=\"images/journal.png\"> <!-- i. png image -->\n",
    "        </section>\n",
    "\n",
    "        <section>\n",
    "            <h1>Competitions</h1>\n",
    "            <img alt=\"AI competition\" src=\"images/AI-Competition.jpg\"> <!-- i. jpg image -->\n",
    "        </section>\n",
    "        \n",
    "        <section>\n",
    "            <p>Resources</p>\n",
    "            <a href=\"https://www.w3schools.com/python/python_strings.asp\">Python Strings</a> <!-- k. a link to .....-->\n",
    "        </section>\n",
    "        <p>Change Langauge to Arabic?</p> <a src=\"main_ar.html\">Click Here</a> <!-- j. a link to local html file -->\n",
    "    </body>\n",
    "</html>\t"
   ]
  },
  {
   "cell_type": "markdown",
   "metadata": {},
   "source": [
    "- If the request is /ar then the server response with main_ar.html which is an Arabic version of main_en.html "
   ]
  },
  {
   "cell_type": "code",
   "execution_count": null,
   "metadata": {
    "vscode": {
     "languageId": "html"
    }
   },
   "outputs": [],
   "source": [
    "<!-- arabic version -->"
   ]
  },
  {
   "cell_type": "markdown",
   "metadata": {},
   "source": [
    "- 404 not found contents"
   ]
  },
  {
   "cell_type": "code",
   "execution_count": null,
   "metadata": {
    "vscode": {
     "languageId": "html"
    }
   },
   "outputs": [],
   "source": [
    "<!-- - “Error 404” in the title\n",
    "- “The file is not found” in the body in red\n",
    "- Your names and IDs in Bold -->\n",
    "\n",
    "<html>\n",
    "    <head>\n",
    "        <title>Eror 404</title>\n",
    "    </head>\n",
    "    <body>\n",
    "        <p style=\"color: red;\">The file is not found</p>\n",
    "        <p style=\"font-weight: bold;\">Sondos Aabed 1190652</p>\n",
    "    </body>\n",
    "</html>   "
   ]
  }
 ],
 "metadata": {
  "language_info": {
   "name": "python"
  }
 },
 "nbformat": 4,
 "nbformat_minor": 2
}
